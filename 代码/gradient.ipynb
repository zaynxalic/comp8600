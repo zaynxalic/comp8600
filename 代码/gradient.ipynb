{
 "cells": [
  {
   "cell_type": "code",
   "execution_count": 1,
   "metadata": {},
   "outputs": [],
   "source": [
    "from sympy import *"
   ]
  },
  {
   "cell_type": "code",
   "execution_count": 43,
   "id": "972c8d68",
   "metadata": {},
   "outputs": [],
   "source": [
    "p1 = symbols(\"p_1\")\n",
    "p2 = symbols(\"p_2\")\n",
    "alpha = symbols(\"alpha\")\n",
    "l = symbols(\"lambda\")\n",
    "x1 =  symbols(\"x_1\")\n",
    "x2 =  symbols(\"x_2\")"
   ]
  },
  {
   "cell_type": "code",
   "execution_count": 48,
   "id": "8e928796",
   "metadata": {},
   "outputs": [
    {
     "data": {
      "text/latex": [
       "$\\displaystyle - \\frac{\\alpha p_{2}}{x_{1}} + \\lambda p_{1} p_{2}$"
      ],
      "text/plain": [
       "-alpha*p_2/x_1 + lambda*p_1*p_2"
      ]
     },
     "execution_count": 48,
     "metadata": {},
     "output_type": "execute_result"
    }
   ],
   "source": [
    "up = l * p1 * p2 - alpha/x1 * p2\n",
    "up"
   ]
  },
  {
   "cell_type": "code",
   "execution_count": 49,
   "id": "1e77d2c2",
   "metadata": {},
   "outputs": [
    {
     "data": {
      "text/latex": [
       "$\\displaystyle \\frac{\\alpha p_{2}^{2}}{x_{1}^{2}} + \\frac{p_{1}^{2} \\cdot \\left(1 - \\alpha\\right)}{x_{2}^{2}}$"
      ],
      "text/plain": [
       "alpha*p_2**2/x_1**2 + p_1**2*(1 - alpha)/x_2**2"
      ]
     },
     "execution_count": 49,
     "metadata": {},
     "output_type": "execute_result"
    }
   ],
   "source": [
    "down = p2**2 * alpha/ (x1**2) + p1**2* (1-alpha)/ (x2**2)\n",
    "down"
   ]
  },
  {
   "cell_type": "code",
   "execution_count": 50,
   "id": "544947b5",
   "metadata": {},
   "outputs": [
    {
     "data": {
      "text/latex": [
       "$\\displaystyle \\frac{- \\frac{\\alpha p_{2}}{x_{1}} + \\lambda p_{1} p_{2}}{\\frac{\\alpha p_{2}^{2}}{x_{1}^{2}} + \\frac{p_{1}^{2} \\cdot \\left(1 - \\alpha\\right)}{x_{2}^{2}}}$"
      ],
      "text/plain": [
       "(-alpha*p_2/x_1 + lambda*p_1*p_2)/(alpha*p_2**2/x_1**2 + p_1**2*(1 - alpha)/x_2**2)"
      ]
     },
     "execution_count": 50,
     "metadata": {},
     "output_type": "execute_result"
    }
   ],
   "source": [
    "s = up/down\n",
    "s"
   ]
  },
  {
   "cell_type": "code",
   "execution_count": 51,
   "id": "3bba5b2e",
   "metadata": {},
   "outputs": [
    {
     "data": {
      "text/latex": [
       "$\\displaystyle - \\frac{p_{2} x_{1} x_{2}^{2} \\left(\\alpha - \\lambda p_{1} x_{1}\\right)}{\\alpha p_{2}^{2} x_{2}^{2} - p_{1}^{2} x_{1}^{2} \\left(\\alpha - 1\\right)}$"
      ],
      "text/plain": [
       "-p_2*x_1*x_2**2*(alpha - lambda*p_1*x_1)/(alpha*p_2**2*x_2**2 - p_1**2*x_1**2*(alpha - 1))"
      ]
     },
     "execution_count": 51,
     "metadata": {},
     "output_type": "execute_result"
    }
   ],
   "source": [
    "s = s.simplify()\n",
    "s"
   ]
  },
  {
   "cell_type": "code",
   "execution_count": null,
   "id": "72dc9583",
   "metadata": {},
   "outputs": [],
   "source": []
  }
 ],
 "metadata": {
  "interpreter": {
   "hash": "73a75ea109158a2d84971ce48cb4564b23b98d042ab3daf1c1f7c2d610837661"
  },
  "kernelspec": {
   "display_name": "Python 3.8.4 64-bit",
   "language": "python",
   "name": "python3"
  },
  "language_info": {
   "codemirror_mode": {
    "name": "ipython",
    "version": 3
   },
   "file_extension": ".py",
   "mimetype": "text/x-python",
   "name": "python",
   "nbconvert_exporter": "python",
   "pygments_lexer": "ipython3",
   "version": "3.8.4"
  }
 },
 "nbformat": 4,
 "nbformat_minor": 5
}
