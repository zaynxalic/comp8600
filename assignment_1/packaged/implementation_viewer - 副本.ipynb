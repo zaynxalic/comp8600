{
 "cells": [
  {
   "cell_type": "code",
   "execution_count": null,
   "metadata": {},
   "outputs": [],
   "source": [
    "import numpy as np\n",
    "import matplotlib.pyplot as plt\n",
    "import importlib\n",
    "import framework.em_code as em_code\n",
    "import emm_question as emm\n",
    "import blr_question as blr\n",
    "importlib.reload(em_code)\n",
    "importlib.reload(emm)\n",
    "importlib.reload(blr)"
   ]
  },
  {
   "cell_type": "markdown",
   "metadata": {},
   "source": [
    "## EMM Visualization"
   ]
  },
  {
   "cell_type": "code",
   "execution_count": null,
   "metadata": {},
   "outputs": [],
   "source": [
    "importlib.reload(emm) # reloads changes made to emm_question.py\n",
    "pi_gt, mu_gt, std_gt, gaussian_1, gaussian_2, gaussian_3, data, Ns = em_code.make_GMM_data()\n",
    "em_code.plot_GMM_data(gaussian_1, gaussian_2, gaussian_3)\n",
    "plt.title(\"Initial data and true parameters\") # Notice that params are in std\n",
    "em_code.plot_GMM_components(mu_gt, std_gt, ['b','r','g'], Ns, 0.2)\n",
    "plt.show()"
   ]
  },
  {
   "cell_type": "code",
   "execution_count": null,
   "metadata": {},
   "outputs": [],
   "source": [
    "N = len(data)\n",
    "K = 3\n",
    "pi = np.ones((K,1))/K # (K,1)\n",
    "mu = np.array([[-2],[0],[2]]) # (K,1)\n",
    "var = np.stack([[0.5], [0.5], [0.5]], axis=0) # (K,1); Notice this is in var\n",
    "eta = np.stack([em_code.gmm_to_eta(mu[i], var[i]) for i in range(K)])"
   ]
  },
  {
   "cell_type": "code",
   "execution_count": null,
   "metadata": {},
   "outputs": [],
   "source": [
    "i = 0\n",
    "pi_i = pi\n",
    "eta_i = eta\n",
    "\n",
    "# Init Values\n",
    "theta_i = np.stack([em_code.gmm_from_eta(eta_i[i]) for i in range(K)], axis=1)\n",
    "mu_i, var_i = theta_i[0], theta_i[1]\n",
    "std_i = np.sqrt(var_i) # Notice we have to convert to std\n",
    "\n",
    "# Init Plot\n",
    "em_code.plot_GMM_data(gaussian_1, gaussian_2, gaussian_3)\n",
    "plt.title(\"Iter {}\".format(i))\n",
    "em_code.plot_GMM_components(mu_i, std_i, ['k','k','k'], 0.2)\n",
    "\n",
    "for j in range(5):\n",
    "    i = j + 1\n",
    "    # Updates\n",
    "    gamma_i = emm.e_step_EMM(data, pi_i, eta_i, em_code.gmm_sufstat, N, K)\n",
    "    pi_i, eta_i = emm.m_step_EMM(data, gamma_i, em_code.gmm_sufstat, em_code.gmm_exp_to_nat, N, K)\n",
    "    \n",
    "    # Parameters\n",
    "    theta_i = np.stack([em_code.gmm_from_eta(eta_i[i]) for i in range(K)], axis=1)\n",
    "    mu_i, var_i = theta_i[0].reshape(K, -1), theta_i[1].reshape(K, -1)\n",
    "    std_i = np.sqrt(var_i)\n",
    "    \n",
    "    # Plotting\n",
    "    if i in [1,2,3,4,5]:\n",
    "        em_code.plot_GMM_data(gaussian_1, gaussian_2, gaussian_3)\n",
    "        plt.title(\"Iter {}\".format(i))\n",
    "        em_code.plot_GMM_components(mu_i, std_i, ['k','k','k'], 0.2)"
   ]
  },
  {
   "cell_type": "markdown",
   "metadata": {},
   "source": [
    "## BLR Visualizer"
   ]
  },
  {
   "cell_type": "code",
   "execution_count": null,
   "metadata": {},
   "outputs": [],
   "source": [
    "## Supporting Cell Do NOT change\n",
    "importlib.reload(blr) # reloads changes made to blr_question.py\n",
    "line_x, line_y, data_x, data_y, true_w = em_code.make_blr_data()\n",
    "features = em_code.make_phi(data_x) # (n,d)\n",
    "targets = data_y.reshape(-1,1) # (n,1)\n",
    "fig, ax = plt.subplots()\n",
    "em_code.plot_blr_function(ax, line_x, line_y, data_x, data_y)\n",
    "plt.show()"
   ]
  },
  {
   "cell_type": "code",
   "execution_count": null,
   "metadata": {},
   "outputs": [],
   "source": [
    "## Supporting Cell Do NOT change\n",
    "# Clearly not a reasonable choice for alpha and beta,\n",
    "# but we will use this to showcase how the EM algorithm\n",
    "# will overcome this bad initial prediction\n",
    "initial_alpha = 100 \n",
    "initial_beta = 0.001\n",
    "\n",
    "em_code.run_simple_blr_model(\n",
    "    blr.single_EM_iter_blr, initial_alpha, initial_beta, line_x, line_y,\n",
    "    data_x, data_y, features, targets, true_w)"
   ]
  }
 ],
 "metadata": {
  "interpreter": {
   "hash": "a8f61be024eba58adef938c9aa1e29e02cb3dece83a5348b1a2dafd16a070453"
  },
  "kernelspec": {
   "display_name": "Python 3.8.5 64-bit ('base': conda)",
   "language": "python",
   "name": "python3"
  },
  "language_info": {
   "name": "python",
   "version": "3.7.2"
  },
  "metadata": {
   "interpreter": {
    "hash": "fc2bb6f2680f872c683254e82949ca162e089558da1767ebf33bd68c41b3611b"
   }
  }
 },
 "nbformat": 4,
 "nbformat_minor": 4
}
